{
 "metadata": {
  "name": "",
  "signature": "sha256:4ab1f1e7249461646ae3bfdd15785c230e3846996e88f5e0b141f3251a06e6ad"
 },
 "nbformat": 3,
 "nbformat_minor": 0,
 "worksheets": [
  {
   "cells": [
    {
     "cell_type": "code",
     "collapsed": false,
     "input": [
      "%%javascript\n",
      "function is_local(){\n",
      "    return (document.location.hostname == \"localhost\" || document.location.hostname == '127.0.0.1')\n",
      "}\n",
      "var url = is_local() ? \"http://localhost:8000/theme/custom.js\" : \"http://odhk.github.io/hyrule_theme/custom.js\"\n",
      "$.getScript(url)"
     ],
     "language": "python",
     "metadata": {},
     "outputs": [
      {
       "javascript": [
        "function is_local(){\n",
        "    return (document.location.hostname == \"localhost\" || document.location.hostname == '127.0.0.1')\n",
        "}\n",
        "var url = is_local() ? \"http://localhost:8000/theme/custom.js\" : \"http://odhk.github.io/hyrule_theme/custom.js\"\n",
        "$.getScript(url)"
       ],
       "metadata": {},
       "output_type": "display_data",
       "text": [
        "<IPython.core.display.Javascript at 0x345bc90>"
       ]
      }
     ],
     "prompt_number": 2
    },
    {
     "cell_type": "markdown",
     "metadata": {},
     "source": [
      "# Credits"
     ]
    },
    {
     "cell_type": "markdown",
     "metadata": {},
     "source": [
      "There is no graph network complex enough to capture all the contributions from people who made this project possible. This section is a feeble attempt to dispense credit where credit is due. Thanks to all the data hackers, iconographers, and pythonista whose work unwittingly ended up here."
     ]
    },
    {
     "cell_type": "markdown",
     "metadata": {},
     "source": [
      "### Icons"
     ]
    },
    {
     "cell_type": "markdown",
     "metadata": {},
     "source": [
      "![credits](assets/agenda.png)\n",
      "**agenda**\n",
      "```\n",
      "Creative Commons \u2013 Attribution (CC BY 3.0)\n",
      "Diagram designed by Piotrek Chuchla from the Noun Project\n",
      "```\n",
      "\n",
      "![credits](assets/code.png)\n",
      "**code**\n",
      "```\n",
      "Creative Commons \u2013 Attribution (CC BY 3.0)\n",
      "Diagram designed by Piotrek Chuchla from the Noun Project\n",
      "```\n",
      "\n",
      "![credits](assets/hub.png)\n",
      "**hub**\n",
      "```\n",
      "Creative Commons \u2013 Attribution (CC BY 3.0)\n",
      "Diagram designed by Piotrek Chuchla from the Noun Project\n",
      "```\n",
      "\n",
      "![credits](assets/linked-list.png)\n",
      "**list**\n",
      "```\n",
      "Creative Commons \u2013 Attribution (CC BY 3.0)\n",
      "Diagram designed by Piotrek Chuchla from the Noun Project\n",
      "```\n",
      "\n",
      "![credits](assets/mountain.png)\n",
      "**mountain**\n",
      "```\n",
      "Creative Commons \u2013 Attribution (CC BY 3.0)\n",
      "Diagram designed by Piotrek Chuchla from the Noun Project\n",
      "```\n",
      "\n",
      "![credits](assets/nodes.png)\n",
      "**nodes**\n",
      "```\n",
      "Creative Commons \u2013 Attribution (CC BY 3.0)\n",
      "Diagram designed by Piotrek Chuchla from the Noun Project\n",
      "```\n",
      "\n",
      "![credits](assets/resources.png)\n",
      "**resources**\n",
      "```\n",
      "Creative Commons \u2013 Attribution (CC BY 3.0)\n",
      "Diagram designed by Piotrek Chuchla from the Noun Project\n",
      "```\n",
      "\n",
      "![credits](assets/theory.png)\n",
      "**theory**\n",
      "```\n",
      "Creative Commons \u2013 Attribution (CC BY 3.0)\n",
      "Diagram designed by Piotrek Chuchla from the Noun Project\n",
      "```\n",
      "\n",
      "![credits](assets/voronoi.png)\n",
      "**voronoi**\n",
      "```\n",
      "Creative Commons \u2013 Attribution (CC BY 3.0)\n",
      "Diagram designed by Piotrek Chuchla from the Noun Project\n",
      "```"
     ]
    },
    {
     "cell_type": "markdown",
     "metadata": {},
     "source": [
      "Creative Commons \u2013 Attribution (CC BY 3.0)\n",
      "Diagram designed by Simple Icons from the Noun Project\n",
      "\n",
      "Creative Commons \u2013 Attribution (CC BY 3.0)\n",
      "Diagram designed by \u0410\u0440\u0442\u0443\u0440 \u0410\u0431\u0442 from the Noun Project\n",
      "\n",
      "Creative Commons \u2013 Attribution (CC BY 3.0)\n",
      "Waves designed by Nina Geometrieva from the Noun Project\n",
      "\n",
      "Creative Commons \u2013 Attribution (CC BY 3.0)\n",
      "Waves designed by Nina Geometrieva from the Noun Project"
     ]
    }
   ],
   "metadata": {}
  }
 ]
}